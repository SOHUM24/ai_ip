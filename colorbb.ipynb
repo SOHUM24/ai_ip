{
 "cells": [
  {
   "cell_type": "code",
   "execution_count": 1,
   "id": "62145260",
   "metadata": {},
   "outputs": [],
   "source": [
    "def is_colorable(graph, node, visited, color, c):\n",
    "    visited[node] = 1\n",
    "    color[node] = c\n",
    "    for child in graph[node]:\n",
    "        if not visited[child]:\n",
    "            tmp = is_colorable(graph, child, visited, color, c^1)\n",
    "            # ^ is xor operator if 1 then 0 if 0 then 1\n",
    "            if tmp == False:\n",
    "                return False\n",
    "        else :\n",
    "            if color[node] == color[child]:\n",
    "                return False\n",
    "    return True\n"
   ]
  },
  {
   "cell_type": "code",
   "execution_count": 2,
   "id": "c8367b66",
   "metadata": {},
   "outputs": [],
   "source": [
    "# ipt = [[1,2],[2,4],[4,3],[3,1],[2,5],[4,5]]\n",
    "# n=5"
   ]
  },
  {
   "cell_type": "code",
   "execution_count": 3,
   "id": "e6e3f33d",
   "metadata": {},
   "outputs": [],
   "source": [
    "ipt = [[1,2],[2,3],[3,6],[6,5],[5,4],[1,4]]\n",
    "n=6"
   ]
  },
  {
   "cell_type": "code",
   "execution_count": 4,
   "id": "4f20a7d8",
   "metadata": {},
   "outputs": [],
   "source": [
    "graph={}\n",
    "visited={}\n",
    "color={}"
   ]
  },
  {
   "cell_type": "code",
   "execution_count": 5,
   "id": "d2a29031",
   "metadata": {},
   "outputs": [],
   "source": [
    "for i in range(1,n+1):\n",
    "    graph[i]=[]\n",
    "    visited[i]=0\n",
    "    color[i]=None"
   ]
  },
  {
   "cell_type": "code",
   "execution_count": 6,
   "id": "c97ed0c7",
   "metadata": {},
   "outputs": [],
   "source": [
    "for u,v in ipt:\n",
    "    graph[u].append(v)\n",
    "    graph[v].append(u)"
   ]
  },
  {
   "cell_type": "code",
   "execution_count": 7,
   "id": "50b7fa20",
   "metadata": {},
   "outputs": [
    {
     "name": "stdout",
     "output_type": "stream",
     "text": [
      "Valid coloring in Graph\n"
     ]
    }
   ],
   "source": [
    "temp = (is_colorable(graph,1,visited,color,0))\n",
    "\n",
    "if temp:\n",
    "    print(\"Valid coloring in Graph\")\n",
    "else:\n",
    "    print(\"Not valid coloring in Graph\")"
   ]
  }
 ],
 "metadata": {
  "kernelspec": {
   "display_name": "Python 3 (ipykernel)",
   "language": "python",
   "name": "python3"
  },
  "language_info": {
   "codemirror_mode": {
    "name": "ipython",
    "version": 3
   },
   "file_extension": ".py",
   "mimetype": "text/x-python",
   "name": "python",
   "nbconvert_exporter": "python",
   "pygments_lexer": "ipython3",
   "version": "3.9.13"
  }
 },
 "nbformat": 4,
 "nbformat_minor": 5
}
