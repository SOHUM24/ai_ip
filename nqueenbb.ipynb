{
 "cells": [
  {
   "cell_type": "code",
   "execution_count": 1,
   "id": "902ed468",
   "metadata": {},
   "outputs": [],
   "source": [
    "def solveNQueens(n):\n",
    "    col = set()  \n",
    "    posDiag = set() \n",
    "    negDiag = set()  \n",
    "    res = []\n",
    "    board = [[\".\"] * n for i in range(n)]\n",
    "\n",
    "   \n",
    "    def heuristic(r):\n",
    "        non_attacking = n - len(col)  # Number of columns available for queens\n",
    "        non_attacking -= len(posDiag.intersection(range(r + 1, n + r + 1)))  # Number of positive diagonals available\n",
    "        non_attacking -= len(negDiag.intersection(range(r - n, r)))  # Number of negative diagonals available\n",
    "        return non_attacking\n",
    "\n",
    "    def backtrack(r):\n",
    "        if r == n:\n",
    "            copy = [\"\".join(row) for row in board]\n",
    "            res.append(copy)\n",
    "            return\n",
    "\n",
    "        columns = sorted(range(n), key=lambda c: heuristic(r + 1))\n",
    "\n",
    "        for c in columns:\n",
    "            if c in col or (r + c) in posDiag or (r - c) in negDiag:\n",
    "                continue\n",
    "\n",
    "            col.add(c)\n",
    "            posDiag.add(r + c)\n",
    "            negDiag.add(r - c)\n",
    "            board[r][c] = \"Q\"\n",
    "\n",
    "            backtrack(r + 1)\n",
    "\n",
    "            col.remove(c)\n",
    "            posDiag.remove(r + c)\n",
    "            negDiag.remove(r - c)\n",
    "            board[r][c] = \".\"\n",
    "\n",
    "    backtrack(0)\n",
    "    return res"
   ]
  },
  {
   "cell_type": "code",
   "execution_count": 2,
   "id": "6666ee5f",
   "metadata": {},
   "outputs": [
    {
     "name": "stdout",
     "output_type": "stream",
     "text": [
      ". Q . .\n",
      ". . . Q\n",
      "Q . . .\n",
      ". . Q .\n",
      "\n",
      ". . Q .\n",
      "Q . . .\n",
      ". . . Q\n",
      ". Q . .\n",
      "\n"
     ]
    }
   ],
   "source": [
    "solutions = solveNQueens(4)\n",
    "\n",
    "for solution in solutions:\n",
    "    for row in solution:\n",
    "        print(\" \".join(row))\n",
    "    print()"
   ]
  }
 ],
 "metadata": {
  "kernelspec": {
   "display_name": "Python 3 (ipykernel)",
   "language": "python",
   "name": "python3"
  },
  "language_info": {
   "codemirror_mode": {
    "name": "ipython",
    "version": 3
   },
   "file_extension": ".py",
   "mimetype": "text/x-python",
   "name": "python",
   "nbconvert_exporter": "python",
   "pygments_lexer": "ipython3",
   "version": "3.9.13"
  }
 },
 "nbformat": 4,
 "nbformat_minor": 5
}
