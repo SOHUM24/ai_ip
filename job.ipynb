{
 "cells": [
  {
   "cell_type": "code",
   "execution_count": 1,
   "id": "21b2169f",
   "metadata": {},
   "outputs": [
    {
     "name": "stdout",
     "output_type": "stream",
     "text": [
      "Jobs are scheduled as:\n",
      "['Job2', 'Job3', 'Job1']\n"
     ]
    }
   ],
   "source": [
    "n = 3 \n",
    "jobs = [['Job1', '2', '100'], ['Job2', '3', '450'], ['Job3', '3', '325']]\n",
    "sorter = lambda job: int(job[2])\n",
    "jobs = sorted(jobs, key=sorter, reverse=True)\n",
    "scheduled = []\n",
    "time = 0\n",
    "for i in jobs:\n",
    "    deadline =int(i[1])\n",
    "    jobId=i[0]\n",
    "    if time <=deadline :\n",
    "        scheduled.append(jobId)\n",
    "        time += 1\n",
    "\n",
    "print(\"Jobs are scheduled as:\")\n",
    "print(scheduled)"
   ]
  }
 ],
 "metadata": {
  "kernelspec": {
   "display_name": "Python 3 (ipykernel)",
   "language": "python",
   "name": "python3"
  },
  "language_info": {
   "codemirror_mode": {
    "name": "ipython",
    "version": 3
   },
   "file_extension": ".py",
   "mimetype": "text/x-python",
   "name": "python",
   "nbconvert_exporter": "python",
   "pygments_lexer": "ipython3",
   "version": "3.9.13"
  }
 },
 "nbformat": 4,
 "nbformat_minor": 5
}
