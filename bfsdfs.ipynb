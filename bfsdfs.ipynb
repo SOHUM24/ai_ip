{
 "cells": [
  {
   "cell_type": "code",
   "execution_count": 1,
   "id": "0c427aad",
   "metadata": {},
   "outputs": [],
   "source": [
    "import collections"
   ]
  },
  {
   "cell_type": "code",
   "execution_count": 2,
   "id": "7c5e7d83",
   "metadata": {},
   "outputs": [],
   "source": [
    "visited = set()"
   ]
  },
  {
   "cell_type": "code",
   "execution_count": 3,
   "id": "d1421d8e",
   "metadata": {},
   "outputs": [],
   "source": [
    "def dfs(visited,graph,root):\n",
    "\n",
    "    if root not in visited:\n",
    "        print(\"Dfs is: \",root) \n",
    "        visited.add(root)\n",
    "        for neighbour in graph[root]:\n",
    "            dfs(visited,graph,neighbour)  \n"
   ]
  },
  {
   "cell_type": "code",
   "execution_count": 4,
   "id": "68f0be47",
   "metadata": {},
   "outputs": [],
   "source": [
    "\n",
    "def bfs(graph,root):\n",
    "    visited = set()\n",
    "    queue = collections.deque([root])\n",
    "    while queue:\n",
    "        vertex = queue.popleft()\n",
    "        visited.add(vertex)\n",
    "        for adj in graph[vertex]:\n",
    "            if adj not in visited:\n",
    "                queue.append(adj)\n",
    "    print(\"Bfs is: \",visited)"
   ]
  },
  {
   "cell_type": "code",
   "execution_count": 5,
   "id": "ac7b0226",
   "metadata": {},
   "outputs": [],
   "source": [
    "graph={ 0:[1,2,3],1:[0,2],2:[0,1,4],3:[0],4:[2] }\n"
   ]
  },
  {
   "cell_type": "code",
   "execution_count": 6,
   "id": "1dc4e38a",
   "metadata": {},
   "outputs": [
    {
     "name": "stdout",
     "output_type": "stream",
     "text": [
      "Bfs is:  {0, 1, 2, 3, 4}\n"
     ]
    }
   ],
   "source": [
    "bfs(graph,0)"
   ]
  },
  {
   "cell_type": "code",
   "execution_count": 7,
   "id": "2f8dfdac",
   "metadata": {},
   "outputs": [
    {
     "name": "stdout",
     "output_type": "stream",
     "text": [
      "Dfs is:  0\n",
      "Dfs is:  1\n",
      "Dfs is:  2\n",
      "Dfs is:  4\n",
      "Dfs is:  3\n"
     ]
    }
   ],
   "source": [
    "dfs(visited,graph,0)"
   ]
  }
 ],
 "metadata": {
  "kernelspec": {
   "display_name": "Python 3 (ipykernel)",
   "language": "python",
   "name": "python3"
  },
  "language_info": {
   "codemirror_mode": {
    "name": "ipython",
    "version": 3
   },
   "file_extension": ".py",
   "mimetype": "text/x-python",
   "name": "python",
   "nbconvert_exporter": "python",
   "pygments_lexer": "ipython3",
   "version": "3.9.13"
  }
 },
 "nbformat": 4,
 "nbformat_minor": 5
}
