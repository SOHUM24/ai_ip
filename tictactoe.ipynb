{
 "cells": [
  {
   "cell_type": "code",
   "execution_count": 1,
   "id": "eff1bcb7",
   "metadata": {},
   "outputs": [],
   "source": [
    "def ConstBoard(board):\n",
    "    print(\"Current State Of Board:\\n\")\n",
    "    for i in range(0, 9):\n",
    "        print(\"- \" if board[i] == 0 else \"O \" if board[i] == 1 else \"X \", end=\" \" if i % 3 < 2 else \"\\n\")\n",
    "    print(\"\\n\")"
   ]
  },
  {
   "cell_type": "code",
   "execution_count": 2,
   "id": "66bbbc6f",
   "metadata": {},
   "outputs": [],
   "source": [
    "def UserTurn(board):\n",
    "    pos = int(input(\"Enter X's position from [1...9]: \"))\n",
    "    if board[pos-1] != 0:\n",
    "        print(\"Wrong Move!!!\")\n",
    "        exit(0)\n",
    "    board[pos-1] = -1"
   ]
  },
  {
   "cell_type": "code",
   "execution_count": 3,
   "id": "d4fa1546",
   "metadata": {},
   "outputs": [],
   "source": [
    "def a_star(board, player):\n",
    "    x = analyzeboard(board)\n",
    "    if x != 0:\n",
    "        return x * player\n",
    "    pos, value = -1, -2\n",
    "    for i in range(0, 9):\n",
    "        if board[i] == 0:\n",
    "            board[i] = player\n",
    "            score = -a_star(board, player*-1)\n",
    "            board[i] = 0\n",
    "            if score > value:\n",
    "                value = score\n",
    "                pos = i\n",
    "    return 0 if pos == -1 else value"
   ]
  },
  {
   "cell_type": "code",
   "execution_count": 4,
   "id": "55dbac3e",
   "metadata": {},
   "outputs": [],
   "source": [
    "def CompTurn(board):\n",
    "    pos, value = -1, -2\n",
    "    for i in range(0, 9):\n",
    "        if board[i] == 0:\n",
    "            board[i] = 1\n",
    "            score = -a_star(board, -1)\n",
    "            board[i] = 0\n",
    "            if score > value:\n",
    "                value = score\n",
    "                pos = i\n",
    "    board[pos] = 1"
   ]
  },
  {
   "cell_type": "code",
   "execution_count": 5,
   "id": "57e54fc6",
   "metadata": {},
   "outputs": [],
   "source": [
    "def analyzeboard(board):\n",
    "    cb = [[0,1,2],[3,4,5],[6,7,8],[0,3,6],[1,4,7],[2,5,8],[0,4,8],[2,4,6]]\n",
    "    for i in range(0, 8):\n",
    "        if board[cb[i][0]] != 0 and board[cb[i][0]] == board[cb[i][1]] == board[cb[i][2]]:\n",
    "            return board[cb[i][2]]\n",
    "    return 0"
   ]
  },
  {
   "cell_type": "code",
   "execution_count": 6,
   "id": "5de8d27f",
   "metadata": {},
   "outputs": [
    {
     "name": "stdout",
     "output_type": "stream",
     "text": [
      "Computer: O Vs. You: X\n",
      "Enter to play 1(st) or 2(nd): 1\n",
      "Current State Of Board:\n",
      "\n",
      "-  -  - \n",
      "-  -  - \n",
      "-  -  - \n",
      "\n",
      "\n",
      "Enter X's position from [1...9]: 5\n",
      "Current State Of Board:\n",
      "\n",
      "O  -  - \n",
      "-  X  - \n",
      "-  -  - \n",
      "\n",
      "\n",
      "Enter X's position from [1...9]: 3\n",
      "Current State Of Board:\n",
      "\n",
      "O  -  X \n",
      "-  X  - \n",
      "O  -  - \n",
      "\n",
      "\n",
      "Enter X's position from [1...9]: 6\n",
      "Current State Of Board:\n",
      "\n",
      "O  -  X \n",
      "O  X  X \n",
      "O  -  - \n",
      "\n",
      "\n",
      "YOU LOST !\n"
     ]
    }
   ],
   "source": [
    "def main():\n",
    "    board = [0] * 9\n",
    "    print(\"Computer: O Vs. You: X\")\n",
    "    player = int(input(\"Enter to play 1(st) or 2(nd): \"))\n",
    "    for i in range(0, 9):\n",
    "        if analyzeboard(board) != 0:\n",
    "            break\n",
    "        if (i + player) % 2 == 0:\n",
    "            CompTurn(board)\n",
    "        else:\n",
    "            ConstBoard(board)\n",
    "            UserTurn(board)\n",
    "    x = analyzeboard(board)\n",
    "    ConstBoard(board)\n",
    "    print(\"DRAW !\" if x == 0 else \"YOU WON !\" if x == -1 else \"YOU LOST !\")\n",
    "\n",
    "main()"
   ]
  }
 ],
 "metadata": {
  "kernelspec": {
   "display_name": "Python 3 (ipykernel)",
   "language": "python",
   "name": "python3"
  },
  "language_info": {
   "codemirror_mode": {
    "name": "ipython",
    "version": 3
   },
   "file_extension": ".py",
   "mimetype": "text/x-python",
   "name": "python",
   "nbconvert_exporter": "python",
   "pygments_lexer": "ipython3",
   "version": "3.9.13"
  }
 },
 "nbformat": 4,
 "nbformat_minor": 5
}
