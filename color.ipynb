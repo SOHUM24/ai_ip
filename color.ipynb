{
 "cells": [
  {
   "cell_type": "code",
   "execution_count": 1,
   "id": "daa1c50d",
   "metadata": {},
   "outputs": [],
   "source": [
    "def graph_coloring(current_vertex):\n",
    "    global result\n",
    "\n",
    "    if current_vertex > n:\n",
    "        result = True\n",
    "        return\n",
    "\n",
    "    for color in colors:\n",
    "        is_valid_color = True\n",
    "        for neighbor in graph[current_vertex]:\n",
    "            if coloring[neighbor] == color:\n",
    "                is_valid_color = False\n",
    "                break\n",
    "\n",
    "        if is_valid_color:\n",
    "            coloring[current_vertex] = color\n",
    "            graph_coloring(current_vertex + 1)\n",
    "            if result:\n",
    "                return\n",
    "\n",
    "            # Backtrack\n",
    "            coloring[current_vertex] = None"
   ]
  },
  {
   "cell_type": "code",
   "execution_count": 2,
   "id": "60bf55b1",
   "metadata": {},
   "outputs": [],
   "source": [
    "n = 6\n",
    "graph = {1: [2, 4], 2: [1, 3, 5], 3: [2, 6], 4: [1, 5], 5: [2, 4], 6: [3]}\n",
    "colors = ['Red', 'Blue', 'Green']\n",
    "coloring = {i: None for i in range(1, n + 1)} # initially no coloring\n",
    "result = False"
   ]
  },
  {
   "cell_type": "code",
   "execution_count": 3,
   "id": "88d379e5",
   "metadata": {},
   "outputs": [
    {
     "name": "stdout",
     "output_type": "stream",
     "text": [
      "Valid graph coloring exists.\n"
     ]
    }
   ],
   "source": [
    "graph_coloring(1)\n",
    "\n",
    "if result:\n",
    "    print(\"Valid graph coloring exists.\")\n",
    "else:\n",
    "    print(\"No valid graph coloring exists.\")"
   ]
  }
 ],
 "metadata": {
  "kernelspec": {
   "display_name": "Python 3 (ipykernel)",
   "language": "python",
   "name": "python3"
  },
  "language_info": {
   "codemirror_mode": {
    "name": "ipython",
    "version": 3
   },
   "file_extension": ".py",
   "mimetype": "text/x-python",
   "name": "python",
   "nbconvert_exporter": "python",
   "pygments_lexer": "ipython3",
   "version": "3.9.13"
  }
 },
 "nbformat": 4,
 "nbformat_minor": 5
}
