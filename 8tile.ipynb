{
 "cells": [
  {
   "cell_type": "code",
   "execution_count": 1,
   "id": "a20fe1f3",
   "metadata": {},
   "outputs": [],
   "source": [
    "from queue import PriorityQueue\n",
    "\n",
    "goal_state = [[1, 2, 3], [4, 5, 6], [7, 8, 0]]\n",
    "moves = [(-1, 0), (1, 0), (0, -1), (0, 1)]\n",
    "\n",
    "def calculate_manhattan_distance(state):\n",
    "    return sum(abs(i // 3 - (value - 1) // 3) + abs(i % 3 - (value - 1) % 3)\n",
    "               for i, row in enumerate(state) for value in row if value != 0)\n"
   ]
  },
  {
   "cell_type": "code",
   "execution_count": 2,
   "id": "8478efbe",
   "metadata": {},
   "outputs": [],
   "source": [
    "def solve_puzzle(start_state):\n",
    "    visited = set()\n",
    "    queue = PriorityQueue()\n",
    "    queue.put((0, start_state))\n",
    "    \n",
    "    while not queue.empty():\n",
    "        _, current_state = queue.get()\n",
    "        \n",
    "        if current_state == goal_state:\n",
    "            return current_state\n",
    "        \n",
    "        visited.add(tuple(map(tuple, current_state)))\n",
    "        empty_row, empty_col = next((i, j) for i in range(3) for j in range(3) if current_state[i][j] == 0)\n",
    "        \n",
    "        for move in moves:\n",
    "            new_row, new_col = empty_row + move[0], empty_col + move[1]\n",
    "            \n",
    "            if 0 <= new_row < 3 and 0 <= new_col < 3:\n",
    "                new_state = [list(row) for row in current_state]\n",
    "                new_state[empty_row][empty_col], new_state[new_row][new_col] = new_state[new_row][new_col], new_state[empty_row][empty_col]\n",
    "                \n",
    "                if tuple(map(tuple, new_state)) not in visited:\n",
    "                    priority = calculate_manhattan_distance(new_state)\n",
    "                    queue.put((priority, new_state))\n",
    "                    visited.add(tuple(map(tuple, new_state)))\n",
    "    \n",
    "    return None"
   ]
  },
  {
   "cell_type": "code",
   "execution_count": 3,
   "id": "5ab753ef",
   "metadata": {},
   "outputs": [
    {
     "name": "stdout",
     "output_type": "stream",
     "text": [
      "Solution found:\n",
      "[1, 2, 3]\n",
      "[4, 5, 6]\n",
      "[7, 8, 0]\n"
     ]
    }
   ],
   "source": [
    "start_state = [[1, 2, 3], [4, 0, 6], [7, 5, 8]]\n",
    "solution = solve_puzzle(start_state)\n",
    "\n",
    "if solution:\n",
    "    print(\"Solution found:\")\n",
    "    for row in solution:\n",
    "        print(row)\n",
    "else:\n",
    "    print(\"No solution found.\")"
   ]
  }
 ],
 "metadata": {
  "kernelspec": {
   "display_name": "Python 3 (ipykernel)",
   "language": "python",
   "name": "python3"
  },
  "language_info": {
   "codemirror_mode": {
    "name": "ipython",
    "version": 3
   },
   "file_extension": ".py",
   "mimetype": "text/x-python",
   "name": "python",
   "nbconvert_exporter": "python",
   "pygments_lexer": "ipython3",
   "version": "3.9.13"
  }
 },
 "nbformat": 4,
 "nbformat_minor": 5
}
