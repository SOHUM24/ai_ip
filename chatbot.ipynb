{
 "cells": [
  {
   "cell_type": "code",
   "execution_count": 1,
   "id": "a3615dbc",
   "metadata": {},
   "outputs": [],
   "source": [
    "import nltk\n",
    "from nltk.chat.util import Chat, reflections"
   ]
  },
  {
   "cell_type": "code",
   "execution_count": 2,
   "id": "a03faf7a",
   "metadata": {},
   "outputs": [],
   "source": [
    "pairs = [\n",
    "    [\n",
    "        r\"my name is (.*)\",\n",
    "        [\"Hello %1, How are you today?\",]\n",
    "    ],\n",
    "    [\n",
    "        r\"hi|hey|hello\",\n",
    "        [\"Hello\", \"Hey there\",]\n",
    "    ],\n",
    "    [\n",
    "        r\"what is your name ?\",\n",
    "        [\"I am a bot created for ShopEasy.\",]\n",
    "    ],\n",
    "    [\n",
    "        r\"how are you ?\",\n",
    "        [\"I'm doing good. How about you?\",]\n",
    "    ],\n",
    "    [\n",
    "        r\"sorry (.*)\",\n",
    "        [\"No problem\", \"Don't worry about it\",]\n",
    "    ],\n",
    "    [\n",
    "        r\"I am fine\",\n",
    "        [\"Great to hear that. How can I assist you today?\",]\n",
    "    ],\n",
    "    [\n",
    "        r\"quit|bye|exit\",\n",
    "        [\"Bye! Take care. Have a great day ahead!\",]\n",
    "    ],\n",
    "    [\n",
    "        r\"(.*)\",\n",
    "        [\"Sorry, I can't understand that. Could you please rephrase?\",]\n",
    "    ]\n",
    "]"
   ]
  },
  {
   "cell_type": "code",
   "execution_count": 3,
   "id": "43898c41",
   "metadata": {},
   "outputs": [],
   "source": [
    "def tokenize(sentence):\n",
    "    return nltk.word_tokenize(sentence)\n"
   ]
  },
  {
   "cell_type": "code",
   "execution_count": 4,
   "id": "c0cf78db",
   "metadata": {},
   "outputs": [],
   "source": [
    "def shop_easy_chatbot():\n",
    "    print(\"Welcome to ShopEasy! How can I assist you today?\")\n",
    "    chat = Chat(pairs, reflections)\n",
    "    chat._substitute('ShopEasy: ')\n",
    "    chat._default_response = \"Sorry, I can't understand that. Could you please rephrase?\"\n",
    "\n",
    "    while True:\n",
    "        user_input = input(\"User: \")\n",
    "        response = chat.respond(' '.join(tokenize(user_input)))\n",
    "        print(\"ShopEasy:\", response)\n",
    "        \n",
    "        if any(word in user_input.lower() for word in [\"bye\", \"exit\"]):\n",
    "            print(\"Exiting the program...\")\n",
    "            break"
   ]
  },
  {
   "cell_type": "code",
   "execution_count": null,
   "id": "82e08a43",
   "metadata": {},
   "outputs": [],
   "source": [
    "shop_easy_chatbot()"
   ]
  }
 ],
 "metadata": {
  "kernelspec": {
   "display_name": "Python 3 (ipykernel)",
   "language": "python",
   "name": "python3"
  },
  "language_info": {
   "codemirror_mode": {
    "name": "ipython",
    "version": 3
   },
   "file_extension": ".py",
   "mimetype": "text/x-python",
   "name": "python",
   "nbconvert_exporter": "python",
   "pygments_lexer": "ipython3",
   "version": "3.9.13"
  }
 },
 "nbformat": 4,
 "nbformat_minor": 5
}
